{
 "cells": [
  {
   "cell_type": "markdown",
   "metadata": {},
   "source": [
    "# Algorithms 202: Coursework 2 Task 1: Random Sampling"
   ]
  },
  {
   "cell_type": "markdown",
   "metadata": {},
   "source": [
    "Group-ID: XX"
   ]
  },
  {
   "cell_type": "markdown",
   "metadata": {},
   "source": [
    "Group members: ADD NAMES HERE"
   ]
  },
  {
   "cell_type": "markdown",
   "metadata": {},
   "source": [
    "## Objectives"
   ]
  },
  {
   "cell_type": "markdown",
   "metadata": {},
   "source": [
    "The aim of this coursework is to enhance your algorithmic skills by developing algorithms from textual, non-formal descriptions. You are asked to show that you can:\n",
    "\n",
    "- implement three different random sampling algorithms\n",
    "- compare those algorithms using visual representations based on image sampling\n",
    "\n",
    "This notebook *is* the coursework. It contains cells with function definitions that you will need to complete. You will submit this notebook as your coursework."
   ]
  },
  {
   "cell_type": "markdown",
   "metadata": {},
   "source": [
    "## Preliminaries: helper functions"
   ]
  },
  {
   "cell_type": "markdown",
   "metadata": {},
   "source": [
    "Here we define a collection of functions that will be useful for the rest of the coursework. You'll need to run this cell to get started."
   ]
  },
  {
   "cell_type": "code",
   "execution_count": null,
   "metadata": {
    "collapsed": false
   },
   "outputs": [],
   "source": [
    "%matplotlib inline\n",
    "import numpy as np\n",
    "from scipy.ndimage import map_coordinates\n",
    "from scipy.spatial import cKDTree as KDTree\n",
    "from matplotlib import pyplot as plt\n",
    "from PIL import Image\n",
    "\n",
    "def load_image(path):\n",
    "    return np.array(Image.open(str(path)))\n",
    "\n",
    "def sample_colors(image, sample_points):\n",
    "    r\"\"\"\n",
    "    Sample RGB colour values from an image of shape (w, h, 3)\n",
    "    at floating point (x, y) sample points.\n",
    "    \"\"\"\n",
    "    r = map_coordinates(image[..., 0], sample_points.T)\n",
    "    g = map_coordinates(image[..., 1], sample_points.T)\n",
    "    b = map_coordinates(image[..., 2], sample_points.T)\n",
    "    return np.vstack((r, g, b)).T\n",
    "\n",
    "def indices_of_pixels(image):\n",
    "    r\"\"\"(x, y) index values for each pixel in an image.\n",
    "    \"\"\"\n",
    "    return np.indices(image.shape[:2]).reshape([2, -1]).T\n",
    "\n",
    "def closest_index(sample_points, indices):\n",
    "    r\"\"\"\n",
    "    Find the nearest sample_point at a given index\n",
    "    (along with the distance to the point). Input is\n",
    "    an array of sample_points and an array of indicies to\n",
    "    test at. Output is array of indices and distances.\n",
    "    \"\"\"\n",
    "    kdtree = KDTree(sample_points)\n",
    "    distance, index = kdtree.query(indices)\n",
    "    return index, distance\n",
    "\n",
    "def resample_image(image, sample_points):\n",
    "    # for each (floating point) sample_point extract the\n",
    "    # RGB colour value of the image at that location\n",
    "    colors = sample_colors(image, sample_points)\n",
    "    # get all (x, y) index values for each pixel in\n",
    "    # the image\n",
    "    indices = indices_of_pixels(image)\n",
    "    # for every pixel (each index) find the nearest sample\n",
    "    # point (and the distance, but we don't need it here)\n",
    "    c_index,_ = closest_index(sample_points, indices)\n",
    "    # map the closest indexes to colour values - reshape\n",
    "    # the resulting RGB array back into the original image \n",
    "    # shape.\n",
    "    return colors[c_index].reshape(image.shape)"
   ]
  },
  {
   "cell_type": "markdown",
   "metadata": {},
   "source": [
    "## Task 1: Random Sampling"
   ]
  },
  {
   "cell_type": "markdown",
   "metadata": {},
   "source": [
    "In this task you are asked to implement `uniform_sampling`, `best_candidate_sampling` and `poison_disc_sampling`. Additionally, you will need to implement visualising techniques that can be used to compare the output of the three different random sampling algorithms.\n",
    "\n",
    "Complete the below function definitions in the provided skeleton code. Do not change the names of the functions or their arguments."
   ]
  },
  {
   "cell_type": "markdown",
   "metadata": {},
   "source": [
    "### 1a. Implement `uniform_sampling`"
   ]
  },
  {
   "cell_type": "markdown",
   "metadata": {},
   "source": [
    "The `uniform_sampling` function should produce `n_samples` sample points randomly distributed over the sample domain. See lecture slides for details and pseudo-code. Hint: The sample domain defined by the width and the height of the image can be obtained by `image.shape[:2]`."
   ]
  },
  {
   "cell_type": "code",
   "execution_count": null,
   "metadata": {
    "collapsed": false
   },
   "outputs": [],
   "source": [
    "def uniform_sampling(image, n_samples):\n",
    "    # complete function without changing signature\n",
    "    pass"
   ]
  },
  {
   "cell_type": "markdown",
   "metadata": {},
   "source": [
    "### 1b. Implement `best_candidate_sampling`"
   ]
  },
  {
   "cell_type": "markdown",
   "metadata": {},
   "source": [
    "The `best_candidate_sampling` function should produce `n_samples` sample points randomly distributed over the sample domain. See lecture slides for details and pseudo-code. Hint: The `best_candidate` function here corresponds to the BEST-CANDIDATE-SAMPLE function in the slides, which generates a single new sample."
   ]
  },
  {
   "cell_type": "code",
   "execution_count": null,
   "metadata": {
    "collapsed": false
   },
   "outputs": [],
   "source": [
    "def best_candidate_sampling(image, n_samples, n_candidates):\n",
    "    # complete function without changing signature\n",
    "    pass\n",
    "\n",
    "def best_candidate(image, samples, n_candidates):\n",
    "    # complete function without changing signature\n",
    "    pass"
   ]
  },
  {
   "cell_type": "markdown",
   "metadata": {},
   "source": [
    "### 1c. Implement `poison_disc_sampling`"
   ]
  },
  {
   "cell_type": "markdown",
   "metadata": {},
   "source": [
    "The `poison_disc_sampling` function should produce sample points randomly distributed over the sample domain with a minimum distance of `radius`. See lecture slides and [Bridson's original paper](https://www.cs.ubc.ca/~rbridson/docs/bridson-siggraph07-poissondisk.pdf) for details."
   ]
  },
  {
   "cell_type": "code",
   "execution_count": null,
   "metadata": {
    "collapsed": false
   },
   "outputs": [],
   "source": [
    "def poison_disc_sampling(image, radius, n_candidates):\n",
    "    # complete function without changing signature\n",
    "    pass"
   ]
  },
  {
   "cell_type": "markdown",
   "metadata": {},
   "source": [
    "### Image sampling"
   ]
  },
  {
   "cell_type": "markdown",
   "metadata": {},
   "source": [
    "The following cells are for testing and visualisation of your sampling methods."
   ]
  },
  {
   "cell_type": "markdown",
   "metadata": {},
   "source": [
    "#### Load test image"
   ]
  },
  {
   "cell_type": "code",
   "execution_count": null,
   "metadata": {
    "collapsed": false
   },
   "outputs": [],
   "source": [
    "#image= load_image('./brain.png')\n",
    "#image = load_image('./face.png')\n",
    "#image = load_image('./lighthouse.png')\n",
    "image = load_image('./mandrill.png')\n",
    "#image = load_image('./parrots.png')\n",
    "#image = load_image('./starry-night.png')\n",
    "#image = load_image('./synth.png')\n",
    "plt.imshow(image)"
   ]
  },
  {
   "cell_type": "markdown",
   "metadata": {},
   "source": [
    "#### Generate random samples"
   ]
  },
  {
   "cell_type": "code",
   "execution_count": null,
   "metadata": {
    "collapsed": false
   },
   "outputs": [],
   "source": [
    "#less samples - good for debugging\n",
    "samples_uni = uniform_sampling(image, 685)\n",
    "samples_bc = best_candidate_sampling(image, 685, 10)\n",
    "samples_pd = poison_disc_sampling(image, 15, 30)\n",
    "\n",
    "#more samples - looks better\n",
    "#samples_uni = uniform_sampling(image, 2000)\n",
    "#samples_bc = best_candidate_sampling(image, 2000, 10)\n",
    "#samples_pd = poison_disc_sampling(image, 10, 30)"
   ]
  },
  {
   "cell_type": "markdown",
   "metadata": {},
   "source": [
    "#### Plot samples"
   ]
  },
  {
   "cell_type": "code",
   "execution_count": null,
   "metadata": {
    "collapsed": false
   },
   "outputs": [],
   "source": [
    "fig, axs = plt.subplots(1, 3, figsize=(18,5))\n",
    "axs[0].scatter(samples_uni[:,0], samples_uni[:,1], marker='x')\n",
    "axs[0].set_title('Uniform Sampling')\n",
    "axs[1].scatter(samples_bc[:,0], samples_bc[:,1], marker='x')\n",
    "axs[1].set_title('Best-Candidate Sampling')\n",
    "axs[2].scatter(samples_pd[:,0], samples_pd[:,1], marker='x')\n",
    "axs[2].set_title('Poison-Disc Sampling')\n",
    "plt.show()"
   ]
  },
  {
   "cell_type": "markdown",
   "metadata": {},
   "source": [
    "#### Resample images using random samples"
   ]
  },
  {
   "cell_type": "code",
   "execution_count": null,
   "metadata": {
    "collapsed": false
   },
   "outputs": [],
   "source": [
    "image_uni = resample_image(image, samples_uni)\n",
    "image_bc = resample_image(image, samples_bc)\n",
    "image_pd = resample_image(image, samples_pd)"
   ]
  },
  {
   "cell_type": "markdown",
   "metadata": {},
   "source": [
    "#### Plot images"
   ]
  },
  {
   "cell_type": "code",
   "execution_count": null,
   "metadata": {
    "collapsed": false
   },
   "outputs": [],
   "source": [
    "fig, axs = plt.subplots(1, 4, figsize=(15,3))\n",
    "axs[0].imshow(image)\n",
    "axs[0].set_title('Original')\n",
    "axs[1].imshow(image_uni)\n",
    "axs[1].set_title('Uniform Sampling')\n",
    "axs[2].imshow(image_bc)\n",
    "axs[2].set_title('Best-Candidate Sampling')\n",
    "axs[3].imshow(image_pd)\n",
    "axs[3].set_title('Poison-Disc Sampling')\n",
    "plt.show()"
   ]
  },
  {
   "cell_type": "markdown",
   "metadata": {},
   "source": [
    "### 1d. Implement `distance_map` for colouring image points according to their distance to sample points"
   ]
  },
  {
   "cell_type": "markdown",
   "metadata": {},
   "source": [
    "The `distance_map` function should generate an image where each pixel intensity is set to the distance to the closest sample point. Hint: You might want to check out the `resample_image` function provided above for guidance."
   ]
  },
  {
   "cell_type": "code",
   "execution_count": null,
   "metadata": {
    "collapsed": false
   },
   "outputs": [],
   "source": [
    "def distance_map(image, sample_points):\n",
    "    # complete function without changing signature\n",
    "    pass"
   ]
  },
  {
   "cell_type": "markdown",
   "metadata": {},
   "source": [
    "#### Generate distance maps using random samples"
   ]
  },
  {
   "cell_type": "code",
   "execution_count": null,
   "metadata": {
    "collapsed": false
   },
   "outputs": [],
   "source": [
    "distmap_uni = distance_map(image, samples_uni)\n",
    "distmap_bc = distance_map(image, samples_bc)\n",
    "distmap_pd = distance_map(image, samples_pd)"
   ]
  },
  {
   "cell_type": "markdown",
   "metadata": {},
   "source": [
    "#### Plot distance maps"
   ]
  },
  {
   "cell_type": "code",
   "execution_count": null,
   "metadata": {
    "collapsed": false
   },
   "outputs": [],
   "source": [
    "fig, axs = plt.subplots(1, 3, figsize=(18,5))\n",
    "axs[0].imshow(distmap_uni)\n",
    "axs[0].set_title('Uniform Sampling')\n",
    "axs[1].imshow(distmap_bc)\n",
    "axs[1].set_title('Best-Candidate Sampling')\n",
    "axs[2].imshow(distmap_pd)\n",
    "axs[2].set_title('Poison-Disc Sampling')\n",
    "plt.show()"
   ]
  },
  {
   "cell_type": "code",
   "execution_count": null,
   "metadata": {
    "collapsed": false
   },
   "outputs": [],
   "source": []
  }
 ],
 "metadata": {
  "kernelspec": {
   "display_name": "Python 3",
   "language": "python",
   "name": "python3"
  },
  "language_info": {
   "codemirror_mode": {
    "name": "ipython",
    "version": 3
   },
   "file_extension": ".py",
   "mimetype": "text/x-python",
   "name": "python",
   "nbconvert_exporter": "python",
   "pygments_lexer": "ipython3",
   "version": "3.4.4"
  }
 },
 "nbformat": 4,
 "nbformat_minor": 0
}
